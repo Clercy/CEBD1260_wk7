{
 "cells": [
  {
   "cell_type": "code",
   "execution_count": 1,
   "metadata": {},
   "outputs": [],
   "source": [
    "%matplotlib inline\n",
    "\n",
    "import pandas as pd\n",
    "import numpy as np\n",
    "import matplotlib.pyplot as plt\n",
    "import seaborn as sns\n",
    "\n",
    "from sklearn.metrics.pairwise import euclidean_distances\n",
    "from sklearn.preprocessing import StandardScaler\n",
    "\n",
    "import scipy\n",
    "import scipy.cluster.hierarchy as sch\n",
    "import collections\n",
    "\n",
    "sns.set_style('whitegrid')"
   ]
  },
  {
   "cell_type": "markdown",
   "metadata": {},
   "source": [
    "# Problem definition"
   ]
  },
  {
   "cell_type": "markdown",
   "metadata": {},
   "source": [
    "Cluster countries by happiness scored according to economic production, social support, etc.\n",
    "\n",
    "https://www.kaggle.com/unsdsn/world-happiness\n",
    "\n",
    "http://worldhappiness.report/ed/2017/"
   ]
  },
  {
   "cell_type": "markdown",
   "metadata": {},
   "source": [
    "# Load the data"
   ]
  },
  {
   "cell_type": "code",
   "execution_count": 2,
   "metadata": {},
   "outputs": [
    {
     "name": "stdout",
     "output_type": "stream",
     "text": [
      "Index(['NO_DECLARATION', 'DATE_DECLARATION', 'DATE_PRIOR_INSP', 'EXT_FREQ',\n",
      "       'DATE_FIRST_EXT', 'DATE_LAST_EXT', 'HOOD_NUM', 'HOOD_NAME', 'BORO_NAME',\n",
      "       'MTM8_X', 'MTM8_Y', 'LONGITUDE', 'LATITUDE', 'LONG_LAT', 'MTM_X_Y',\n",
      "       'DEC_MONTH', 'DEC_ISSUE', 'DATE_DIFF'],\n",
      "      dtype='object')\n"
     ]
    },
    {
     "data": {
      "text/html": [
       "<div>\n",
       "<style scoped>\n",
       "    .dataframe tbody tr th:only-of-type {\n",
       "        vertical-align: middle;\n",
       "    }\n",
       "\n",
       "    .dataframe tbody tr th {\n",
       "        vertical-align: top;\n",
       "    }\n",
       "\n",
       "    .dataframe thead th {\n",
       "        text-align: right;\n",
       "    }\n",
       "</style>\n",
       "<table border=\"1\" class=\"dataframe\">\n",
       "  <thead>\n",
       "    <tr style=\"text-align: right;\">\n",
       "      <th></th>\n",
       "      <th>NO_DECLARATION</th>\n",
       "      <th>DATE_DECLARATION</th>\n",
       "      <th>DATE_PRIOR_INSP</th>\n",
       "      <th>EXT_FREQ</th>\n",
       "      <th>DATE_FIRST_EXT</th>\n",
       "      <th>DATE_LAST_EXT</th>\n",
       "      <th>HOOD_NUM</th>\n",
       "      <th>HOOD_NAME</th>\n",
       "      <th>BORO_NAME</th>\n",
       "      <th>MTM8_X</th>\n",
       "      <th>MTM8_Y</th>\n",
       "      <th>LONGITUDE</th>\n",
       "      <th>LATITUDE</th>\n",
       "      <th>LONG_LAT</th>\n",
       "      <th>MTM_X_Y</th>\n",
       "      <th>DEC_MONTH</th>\n",
       "      <th>DEC_ISSUE</th>\n",
       "      <th>DATE_DIFF</th>\n",
       "    </tr>\n",
       "  </thead>\n",
       "  <tbody>\n",
       "    <tr>\n",
       "      <th>0</th>\n",
       "      <td>4254</td>\n",
       "      <td>2012-10-28</td>\n",
       "      <td>2012-09-21</td>\n",
       "      <td>1</td>\n",
       "      <td>2012-09-21</td>\n",
       "      <td>2012-09-21</td>\n",
       "      <td>24</td>\n",
       "      <td>Beaurivage</td>\n",
       "      <td>Mercier–Hochelaga-Maisonneuve</td>\n",
       "      <td>303753.6</td>\n",
       "      <td>5049835.7</td>\n",
       "      <td>-73.513411</td>\n",
       "      <td>45.588426</td>\n",
       "      <td>-73.513411_45.588426</td>\n",
       "      <td>303753.6_5049835.7</td>\n",
       "      <td>10</td>\n",
       "      <td>1</td>\n",
       "      <td>37</td>\n",
       "    </tr>\n",
       "    <tr>\n",
       "      <th>1</th>\n",
       "      <td>830</td>\n",
       "      <td>2011-09-16</td>\n",
       "      <td>2011-07-13</td>\n",
       "      <td>1</td>\n",
       "      <td>2011-07-27</td>\n",
       "      <td>2011-08-17</td>\n",
       "      <td>50</td>\n",
       "      <td>Saint-Henri</td>\n",
       "      <td>Le Sud-Ouest</td>\n",
       "      <td>298119.8</td>\n",
       "      <td>5036963.7</td>\n",
       "      <td>-73.585437</td>\n",
       "      <td>45.472569</td>\n",
       "      <td>-73.585437_45.472569</td>\n",
       "      <td>298119.8_5036963.7</td>\n",
       "      <td>9</td>\n",
       "      <td>1</td>\n",
       "      <td>65</td>\n",
       "    </tr>\n",
       "    <tr>\n",
       "      <th>2</th>\n",
       "      <td>1380</td>\n",
       "      <td>2011-11-08</td>\n",
       "      <td>2011-11-02</td>\n",
       "      <td>1</td>\n",
       "      <td>2011-11-07</td>\n",
       "      <td>2011-11-21</td>\n",
       "      <td>30</td>\n",
       "      <td>Sainte-Marie</td>\n",
       "      <td>Ville-Marie</td>\n",
       "      <td>300294.9</td>\n",
       "      <td>5042372.1</td>\n",
       "      <td>-73.557668</td>\n",
       "      <td>45.521253</td>\n",
       "      <td>-73.557668_45.521253</td>\n",
       "      <td>300294.9_5042372.1</td>\n",
       "      <td>11</td>\n",
       "      <td>1</td>\n",
       "      <td>6</td>\n",
       "    </tr>\n",
       "    <tr>\n",
       "      <th>3</th>\n",
       "      <td>455</td>\n",
       "      <td>2011-08-10</td>\n",
       "      <td>2011-08-09</td>\n",
       "      <td>1</td>\n",
       "      <td>2011-08-09</td>\n",
       "      <td>2011-08-09</td>\n",
       "      <td>44</td>\n",
       "      <td>Upper Lachine</td>\n",
       "      <td>Côte-des-Neiges–Notre-Dame-de-Grâce</td>\n",
       "      <td>296046.9</td>\n",
       "      <td>5036494.9</td>\n",
       "      <td>-73.611941</td>\n",
       "      <td>45.468327</td>\n",
       "      <td>-73.611941_45.468327</td>\n",
       "      <td>296046.9_5036494.9</td>\n",
       "      <td>8</td>\n",
       "      <td>1</td>\n",
       "      <td>1</td>\n",
       "    </tr>\n",
       "    <tr>\n",
       "      <th>4</th>\n",
       "      <td>1243</td>\n",
       "      <td>2011-10-26</td>\n",
       "      <td>2011-09-16</td>\n",
       "      <td>1</td>\n",
       "      <td>2011-10-05</td>\n",
       "      <td>2011-10-05</td>\n",
       "      <td>19</td>\n",
       "      <td>Petite-Côte</td>\n",
       "      <td>Rosemont–La Petite-Patrie</td>\n",
       "      <td>299524.2</td>\n",
       "      <td>5045639.9</td>\n",
       "      <td>-73.567569</td>\n",
       "      <td>45.550652</td>\n",
       "      <td>-73.56756899999999_45.550652</td>\n",
       "      <td>299524.2_5045639.9</td>\n",
       "      <td>10</td>\n",
       "      <td>1</td>\n",
       "      <td>40</td>\n",
       "    </tr>\n",
       "  </tbody>\n",
       "</table>\n",
       "</div>"
      ],
      "text/plain": [
       "   NO_DECLARATION DATE_DECLARATION DATE_PRIOR_INSP  EXT_FREQ DATE_FIRST_EXT  \\\n",
       "0            4254       2012-10-28      2012-09-21         1     2012-09-21   \n",
       "1             830       2011-09-16      2011-07-13         1     2011-07-27   \n",
       "2            1380       2011-11-08      2011-11-02         1     2011-11-07   \n",
       "3             455       2011-08-10      2011-08-09         1     2011-08-09   \n",
       "4            1243       2011-10-26      2011-09-16         1     2011-10-05   \n",
       "\n",
       "  DATE_LAST_EXT HOOD_NUM      HOOD_NAME                            BORO_NAME  \\\n",
       "0    2012-09-21       24     Beaurivage        Mercier–Hochelaga-Maisonneuve   \n",
       "1    2011-08-17       50    Saint-Henri                         Le Sud-Ouest   \n",
       "2    2011-11-21       30   Sainte-Marie                          Ville-Marie   \n",
       "3    2011-08-09       44  Upper Lachine  Côte-des-Neiges–Notre-Dame-de-Grâce   \n",
       "4    2011-10-05       19    Petite-Côte            Rosemont–La Petite-Patrie   \n",
       "\n",
       "     MTM8_X     MTM8_Y  LONGITUDE   LATITUDE                      LONG_LAT  \\\n",
       "0  303753.6  5049835.7 -73.513411  45.588426          -73.513411_45.588426   \n",
       "1  298119.8  5036963.7 -73.585437  45.472569          -73.585437_45.472569   \n",
       "2  300294.9  5042372.1 -73.557668  45.521253          -73.557668_45.521253   \n",
       "3  296046.9  5036494.9 -73.611941  45.468327          -73.611941_45.468327   \n",
       "4  299524.2  5045639.9 -73.567569  45.550652  -73.56756899999999_45.550652   \n",
       "\n",
       "              MTM_X_Y  DEC_MONTH  DEC_ISSUE  DATE_DIFF  \n",
       "0  303753.6_5049835.7         10          1         37  \n",
       "1  298119.8_5036963.7          9          1         65  \n",
       "2  300294.9_5042372.1         11          1          6  \n",
       "3  296046.9_5036494.9          8          1          1  \n",
       "4  299524.2_5045639.9         10          1         40  "
      ]
     },
     "execution_count": 2,
     "metadata": {},
     "output_type": "execute_result"
    }
   ],
   "source": [
    "#df = pd.read_csv('data/wh_2017.csv')\n",
    "df = pd.read_csv('declarations-exterminations-punaises-de-lit-1.csv')\n",
    "print(df.columns)\n",
    "df.head()"
   ]
  },
  {
   "cell_type": "code",
   "execution_count": 3,
   "metadata": {},
   "outputs": [
    {
     "name": "stdout",
     "output_type": "stream",
     "text": [
      "NO_DECLARATION               int64\n",
      "DATE_DECLARATION    datetime64[ns]\n",
      "DATE_PRIOR_INSP     datetime64[ns]\n",
      "EXT_FREQ                     int64\n",
      "DATE_FIRST_EXT      datetime64[ns]\n",
      "DATE_LAST_EXT       datetime64[ns]\n",
      "HOOD_NUM                    object\n",
      "HOOD_NAME                   object\n",
      "BORO_NAME                   object\n",
      "MTM8_X                     float64\n",
      "MTM8_Y                     float64\n",
      "LONGITUDE                  float64\n",
      "LATITUDE                   float64\n",
      "LONG_LAT                    object\n",
      "MTM_X_Y                     object\n",
      "DEC_MONTH                    int64\n",
      "DEC_ISSUE                    int64\n",
      "DATE_DIFF                    int64\n",
      "dtype: object\n",
      "==================TOP_10_BORO==================\n",
      "\n",
      "==================TOP_10_INTERSECTIONS_BASED_ON_EXT_FREQ_AND_ON_DECLARATIONS==================\n",
      "Index(['NO_DECLARATION', 'DATE_DECLARATION', 'DATE_PRIOR_INSP', 'EXT_FREQ',\n",
      "       'DATE_FIRST_EXT', 'DATE_LAST_EXT', 'HOOD_NUM', 'HOOD_NAME', 'BORO_NAME',\n",
      "       'MTM8_X', 'MTM8_Y', 'LONGITUDE', 'LATITUDE', 'LONG_LAT', 'MTM_X_Y',\n",
      "       'DEC_MONTH', 'DEC_ISSUE', 'DATE_DIFF', 'EPI_DIST_1', 'EPI_DIST_2',\n",
      "       'DEC_D', 'PRIOR_D', 'FIRST_D', 'LAST_D', 'D_DIFF_B', 'D_DIFF_C',\n",
      "       'D_DIFF_A'],\n",
      "      dtype='object')\n"
     ]
    },
    {
     "data": {
      "text/html": [
       "<div>\n",
       "<style scoped>\n",
       "    .dataframe tbody tr th:only-of-type {\n",
       "        vertical-align: middle;\n",
       "    }\n",
       "\n",
       "    .dataframe tbody tr th {\n",
       "        vertical-align: top;\n",
       "    }\n",
       "\n",
       "    .dataframe thead th {\n",
       "        text-align: right;\n",
       "    }\n",
       "</style>\n",
       "<table border=\"1\" class=\"dataframe\">\n",
       "  <thead>\n",
       "    <tr style=\"text-align: right;\">\n",
       "      <th></th>\n",
       "      <th>NO_DECLARATION</th>\n",
       "      <th>DATE_DECLARATION</th>\n",
       "      <th>DATE_PRIOR_INSP</th>\n",
       "      <th>EXT_FREQ</th>\n",
       "      <th>DATE_FIRST_EXT</th>\n",
       "      <th>DATE_LAST_EXT</th>\n",
       "      <th>HOOD_NUM</th>\n",
       "      <th>HOOD_NAME</th>\n",
       "      <th>BORO_NAME</th>\n",
       "      <th>MTM8_X</th>\n",
       "      <th>...</th>\n",
       "      <th>DATE_DIFF</th>\n",
       "      <th>EPI_DIST_1</th>\n",
       "      <th>EPI_DIST_2</th>\n",
       "      <th>DEC_D</th>\n",
       "      <th>PRIOR_D</th>\n",
       "      <th>FIRST_D</th>\n",
       "      <th>LAST_D</th>\n",
       "      <th>D_DIFF_B</th>\n",
       "      <th>D_DIFF_C</th>\n",
       "      <th>D_DIFF_A</th>\n",
       "    </tr>\n",
       "  </thead>\n",
       "  <tbody>\n",
       "    <tr>\n",
       "      <th>0</th>\n",
       "      <td>4254</td>\n",
       "      <td>2012-10-28</td>\n",
       "      <td>2012-09-21</td>\n",
       "      <td>1</td>\n",
       "      <td>2012-09-21</td>\n",
       "      <td>2012-09-21</td>\n",
       "      <td>24</td>\n",
       "      <td>Beaurivage</td>\n",
       "      <td>Mercier–Hochelaga-Maisonneuve</td>\n",
       "      <td>303753.6</td>\n",
       "      <td>...</td>\n",
       "      <td>37</td>\n",
       "      <td>8.807054</td>\n",
       "      <td>7.692280</td>\n",
       "      <td>201210</td>\n",
       "      <td>20129</td>\n",
       "      <td>20129</td>\n",
       "      <td>20129</td>\n",
       "      <td>0.0</td>\n",
       "      <td>0.0</td>\n",
       "      <td>37</td>\n",
       "    </tr>\n",
       "    <tr>\n",
       "      <th>1</th>\n",
       "      <td>830</td>\n",
       "      <td>2011-09-16</td>\n",
       "      <td>2011-07-13</td>\n",
       "      <td>1</td>\n",
       "      <td>2011-07-27</td>\n",
       "      <td>2011-08-17</td>\n",
       "      <td>50</td>\n",
       "      <td>Saint-Henri</td>\n",
       "      <td>Le Sud-Ouest</td>\n",
       "      <td>298119.8</td>\n",
       "      <td>...</td>\n",
       "      <td>65</td>\n",
       "      <td>6.093565</td>\n",
       "      <td>6.475919</td>\n",
       "      <td>20119</td>\n",
       "      <td>20117</td>\n",
       "      <td>20117</td>\n",
       "      <td>20118</td>\n",
       "      <td>21.0</td>\n",
       "      <td>14.0</td>\n",
       "      <td>65</td>\n",
       "    </tr>\n",
       "    <tr>\n",
       "      <th>2</th>\n",
       "      <td>1380</td>\n",
       "      <td>2011-11-08</td>\n",
       "      <td>2011-11-02</td>\n",
       "      <td>1</td>\n",
       "      <td>2011-11-07</td>\n",
       "      <td>2011-11-21</td>\n",
       "      <td>30</td>\n",
       "      <td>Sainte-Marie</td>\n",
       "      <td>Ville-Marie</td>\n",
       "      <td>300294.9</td>\n",
       "      <td>...</td>\n",
       "      <td>6</td>\n",
       "      <td>2.282212</td>\n",
       "      <td>0.960247</td>\n",
       "      <td>201111</td>\n",
       "      <td>201111</td>\n",
       "      <td>201111</td>\n",
       "      <td>201111</td>\n",
       "      <td>14.0</td>\n",
       "      <td>5.0</td>\n",
       "      <td>6</td>\n",
       "    </tr>\n",
       "    <tr>\n",
       "      <th>3</th>\n",
       "      <td>455</td>\n",
       "      <td>2011-08-10</td>\n",
       "      <td>2011-08-09</td>\n",
       "      <td>1</td>\n",
       "      <td>2011-08-09</td>\n",
       "      <td>2011-08-09</td>\n",
       "      <td>44</td>\n",
       "      <td>Upper Lachine</td>\n",
       "      <td>Côte-des-Neiges–Notre-Dame-de-Grâce</td>\n",
       "      <td>296046.9</td>\n",
       "      <td>...</td>\n",
       "      <td>1</td>\n",
       "      <td>6.877249</td>\n",
       "      <td>7.701937</td>\n",
       "      <td>20118</td>\n",
       "      <td>20118</td>\n",
       "      <td>20118</td>\n",
       "      <td>20118</td>\n",
       "      <td>0.0</td>\n",
       "      <td>0.0</td>\n",
       "      <td>1</td>\n",
       "    </tr>\n",
       "    <tr>\n",
       "      <th>4</th>\n",
       "      <td>1243</td>\n",
       "      <td>2011-10-26</td>\n",
       "      <td>2011-09-16</td>\n",
       "      <td>1</td>\n",
       "      <td>2011-10-05</td>\n",
       "      <td>2011-10-05</td>\n",
       "      <td>19</td>\n",
       "      <td>Petite-Côte</td>\n",
       "      <td>Rosemont–La Petite-Patrie</td>\n",
       "      <td>299524.2</td>\n",
       "      <td>...</td>\n",
       "      <td>40</td>\n",
       "      <td>2.941369</td>\n",
       "      <td>2.446377</td>\n",
       "      <td>201110</td>\n",
       "      <td>20119</td>\n",
       "      <td>201110</td>\n",
       "      <td>201110</td>\n",
       "      <td>0.0</td>\n",
       "      <td>19.0</td>\n",
       "      <td>40</td>\n",
       "    </tr>\n",
       "  </tbody>\n",
       "</table>\n",
       "<p>5 rows × 27 columns</p>\n",
       "</div>"
      ],
      "text/plain": [
       "   NO_DECLARATION DATE_DECLARATION DATE_PRIOR_INSP  EXT_FREQ DATE_FIRST_EXT  \\\n",
       "0            4254       2012-10-28      2012-09-21         1     2012-09-21   \n",
       "1             830       2011-09-16      2011-07-13         1     2011-07-27   \n",
       "2            1380       2011-11-08      2011-11-02         1     2011-11-07   \n",
       "3             455       2011-08-10      2011-08-09         1     2011-08-09   \n",
       "4            1243       2011-10-26      2011-09-16         1     2011-10-05   \n",
       "\n",
       "  DATE_LAST_EXT HOOD_NUM      HOOD_NAME                            BORO_NAME  \\\n",
       "0    2012-09-21       24     Beaurivage        Mercier–Hochelaga-Maisonneuve   \n",
       "1    2011-08-17       50    Saint-Henri                         Le Sud-Ouest   \n",
       "2    2011-11-21       30   Sainte-Marie                          Ville-Marie   \n",
       "3    2011-08-09       44  Upper Lachine  Côte-des-Neiges–Notre-Dame-de-Grâce   \n",
       "4    2011-10-05       19    Petite-Côte            Rosemont–La Petite-Patrie   \n",
       "\n",
       "     MTM8_X  ...  DATE_DIFF  EPI_DIST_1  EPI_DIST_2   DEC_D PRIOR_D  FIRST_D  \\\n",
       "0  303753.6  ...         37    8.807054    7.692280  201210   20129    20129   \n",
       "1  298119.8  ...         65    6.093565    6.475919   20119   20117    20117   \n",
       "2  300294.9  ...          6    2.282212    0.960247  201111  201111   201111   \n",
       "3  296046.9  ...          1    6.877249    7.701937   20118   20118    20118   \n",
       "4  299524.2  ...         40    2.941369    2.446377  201110   20119   201110   \n",
       "\n",
       "   LAST_D  D_DIFF_B  D_DIFF_C  D_DIFF_A  \n",
       "0   20129       0.0       0.0        37  \n",
       "1   20118      21.0      14.0        65  \n",
       "2  201111      14.0       5.0         6  \n",
       "3   20118       0.0       0.0         1  \n",
       "4  201110       0.0      19.0        40  \n",
       "\n",
       "[5 rows x 27 columns]"
      ]
     },
     "execution_count": 3,
     "metadata": {},
     "output_type": "execute_result"
    }
   ],
   "source": [
    "\n",
    "# Ref.:https://pandas.pydata.org/pandas-docs/stable/reference/api/pandas.to_datetime.html\n",
    "df['DATE_DECLARATION'] = pd.to_datetime(df['DATE_DECLARATION'])\n",
    "df['DATE_PRIOR_INSP'] = pd.to_datetime(df['DATE_PRIOR_INSP'])\n",
    "df['DATE_FIRST_EXT'] = pd.to_datetime(df['DATE_FIRST_EXT'])\n",
    "df['DATE_LAST_EXT'] = pd.to_datetime(df['DATE_LAST_EXT'])\n",
    "\n",
    "print(df.dtypes)\n",
    "\n",
    "print('==================TOP_10_BORO==================')\n",
    "((df.groupby(['BORO_NAME'])\n",
    "       .agg({'EXT_FREQ': sum, 'NO_DECLARATION':'count'}))\n",
    "       .sort_values(by = ['EXT_FREQ','NO_DECLARATION'],ascending=False)\n",
    "       .rename(columns={'EXT_FREQ':'EXT_QT','NO_DECLARATION':'DECL_QT'})\n",
    "       .head(10))\n",
    "print('')\n",
    "print('==================TOP_10_INTERSECTIONS_BASED_ON_EXT_FREQ_AND_ON_DECLARATIONS==================')\n",
    "((df.groupby(['LONG_LAT','HOOD_NAME','BORO_NAME'])\n",
    "       .agg({'EXT_FREQ': sum, 'NO_DECLARATION':'count'}))\n",
    "       .sort_values(by = ['EXT_FREQ','NO_DECLARATION'],ascending=False)\n",
    "       .rename(columns={'EXT_FREQ':'EXT_QT','NO_DECLARATION':'DECL_QT'})\n",
    "       .head(10))\n",
    "\n",
    "\n",
    "# Inspication for epicenter calculation:\n",
    "# https://towardsdatascience.com/transforming-categorical-data-for-usability-in-machine-learning-predictions-90459c3fc967?gi=2253c23cb822\n",
    "\n",
    "# Ref. : https://stackoverflow.com/questions/4913349/haversine-formula-in-python-bearing-and-distance-between-two-gps-points\n",
    "def haversine_np(lon1, lat1, lon2, lat2):\n",
    "    lon1, lat1, lon2, lat2 = map(np.radians, [lon1, lat1, lon2, lat2])\n",
    "    \n",
    "    dlon = lon2 - lon1\n",
    "    dlat = lat2 - lat1    \n",
    "    \n",
    "    a = np.sin(dlat / 2.0) ** 2 + np.cos(lat1) * np.cos(lat2) * np.sin(dlon / 2.0) ** 2    \n",
    "    c = 2 * np.arcsin(np.sqrt(a))\n",
    "    \n",
    "    km = 6367 * c\n",
    "    return km\n",
    "\n",
    "\n",
    "\n",
    "\n",
    "# Create distance column in dataframe, which returns km values\n",
    "df['EPI_DIST_1'] = haversine_np(\n",
    "    df['LONGITUDE'],df['LATITUDE'], -73.585636, 45.527404)\n",
    "\n",
    "df['EPI_DIST_2'] = haversine_np(\n",
    "    df['LONGITUDE'],df['LATITUDE'], -73.563652, 45.528809)\n",
    "\n",
    "\n",
    "\n",
    "#We have this for month and year:\n",
    "\n",
    "df['DEC_D'] = (pd.DatetimeIndex(df['DATE_DECLARATION']).year).map(str) + (\n",
    "    pd.DatetimeIndex(df['DATE_DECLARATION']).month).map(str)\n",
    "    \n",
    "df['PRIOR_D'] = (pd.DatetimeIndex(df['DATE_PRIOR_INSP']).year).map(str) + (\n",
    "    pd.DatetimeIndex(df['DATE_PRIOR_INSP']).month).map(str)\n",
    "\n",
    "df['FIRST_D'] = (pd.DatetimeIndex(df['DATE_FIRST_EXT']).year).map(str) + (\n",
    "    pd.DatetimeIndex(df['DATE_FIRST_EXT']).month).map(str)\n",
    "\n",
    "df['LAST_D'] = (pd.DatetimeIndex(df['DATE_LAST_EXT']).year).map(str) + (\n",
    "    pd.DatetimeIndex(df['DATE_LAST_EXT']).month).map(str)\n",
    "\n",
    "# Create difference between LAST and FIRST Extermination\n",
    "df['D_DIFF_B'] = round( (df['DATE_LAST_EXT'] - df['DATE_FIRST_EXT'] ) \n",
    "                                / np.timedelta64(1,'D') )\n",
    "    # ['D_DIFF_B'] = ['DATE_LAST_EXT'] - ['DATE_FIRST_EXT']\n",
    "\n",
    "# Create difference between LAST and FIRST Extermination\n",
    "df['D_DIFF_C'] = round( (df['DATE_FIRST_EXT'] - df['DATE_PRIOR_INSP'] ) \n",
    "                                / np.timedelta64(1,'D') )\n",
    "    # ['D_DIFF_C'] = ['DATE_FIRST_EXT'] - ['DATE_PRIOR_INSP']\n",
    "\n",
    "    \n",
    "# rename column\n",
    "df['D_DIFF_A'] = df['DATE_DIFF'].copy() # ['D_DIFF_A'] = ['DATE_DECLARATION'] - ['DATE_PRIOR_INSP']\n",
    "\n",
    "\n",
    "\n",
    "\n",
    "\n",
    "\n",
    "\n",
    "\n",
    "print(df.columns)\n",
    "df.head()\n",
    "\n",
    "\n",
    "\n"
   ]
  },
  {
   "cell_type": "markdown",
   "metadata": {},
   "source": [
    "# Feature Engineering "
   ]
  },
  {
   "cell_type": "code",
   "execution_count": 4,
   "metadata": {},
   "outputs": [],
   "source": [
    "# select the columns\n",
    "#X_columns = ['Happiness.Score', 'Economy..GDP.per.Capita.']\n",
    "#X_columns = ['DEC_MONTH', 'DATE_DIFF']\n",
    "X_columns = ['D_DIFF_B', 'EPI_DIST_1']\n",
    "\n",
    "# normalize the data\n",
    "for col in X_columns:\n",
    "    df[col] = StandardScaler().fit_transform(df[col].values.reshape(-1, 1))"
   ]
  },
  {
   "cell_type": "markdown",
   "metadata": {},
   "source": [
    "# Model Training"
   ]
  },
  {
   "cell_type": "code",
   "execution_count": 5,
   "metadata": {},
   "outputs": [
    {
     "data": {
      "image/png": "[encoded data removed]",
      "text/plain": [
       "<Figure size 432x288 with 1 Axes>"
      ]
     },
     "metadata": {
      "needs_background": "light"
     },
     "output_type": "display_data"
    },
    {
     "name": "stdout",
     "output_type": "stream",
     "text": [
      "{1, 2, 3}\n",
      "Counter({3: 80, 1: 63, 2: 6})\n"
     ]
    }
   ],
   "source": [
    "k = 3\n",
    "color_threshold = 8.\n",
    "d = sch.distance.pdist(df[X_columns])\n",
    "Z= sch.linkage(d, method = 'ward') # minimize within cluster variation\n",
    "T = sch.fcluster(Z, k, 'maxclust')\n",
    "P = sch.dendrogram(Z, color_threshold=color_threshold)\n",
    "plt.show()\n",
    "\n",
    "print(set(T))\n",
    "print(collections.Counter(T))\n",
    "\n",
    "df_results = df.copy()\n",
    "df_results['cluster'] = T\n",
    "df['cluster'] = T"
   ]
  },
  {
   "cell_type": "code",
   "execution_count": 6,
   "metadata": {},
   "outputs": [
    {
     "name": "stdout",
     "output_type": "stream",
     "text": [
      "1 63\n",
      "['Anjou', 'Anjou', 'Beaurivage', 'Beaurivage', 'Bois-Francs', 'Cecil-P.-Newman', 'Cecil-P.-Newman', 'Centre', 'Centre', 'Centre-Nord', 'Chameran/Montpellier', 'Chameran/Montpellier', 'Dupéré', 'Est', 'Grande-Prairie', 'Grande-Prairie', 'Grande-Prairie', 'Hochelaga', 'La Visitation', 'La Visitation', 'La Visitation', 'Longue-Pointe', 'Longue-Pointe', 'Louis-Riel', 'Louis-Riel', 'Maisonneuve', 'Maisonneuve', 'Maisonneuve', 'Maisonneuve', 'Maisonneuve', 'Maisonneuve', 'Marc-Aurèle-Fortin', 'Marie-Victorin', 'Ouest', 'Ouest', 'René-Goupil', 'Saint-Henri', 'Saint-Henri', 'Saint-Henri', 'Saint-Henri', 'Saint-Henri', 'Saint-Sulpice', 'Saint-Sulpice', 'Sainte-Lucie', 'Sainte-Lucie', 'Savane', 'Savane', 'Savane', 'Snowdon', 'Snowdon', 'Snowdon', 'Tétreaultville', 'Tétreaultville', 'Upper Lachine', 'Upper Lachine', 'Upper Lachine', 'Verdun-Centre', 'Verdun-Centre', 'Vieux-Lachine - Saint-Pierre', 'Ville-Émard', 'Ville-Émard', 'Édouard-Montpetit', 'Édouard-Montpetit']\n",
      "2 6\n",
      "['Parc-Lafontaine', 'Parc-Laurier', 'René-Lévesque', 'René-Lévesque', 'Sainte-Lucie', 'Sainte-Marie']\n",
      "3 80\n",
      "['Crémazie', 'Crémazie', 'Crémazie', 'Crémazie', 'François-Perrault', 'Gabriel-Sagard', 'Gabriel-Sagard', 'Gabriel-Sagard', 'Gabriel-Sagard', 'Gabriel-Sagard', 'Hochelaga', 'Lorimier', 'Lorimier', 'Lorimier', 'Lorimier', 'Lorimier', 'Lorimier', 'Lorimier', 'Louis-Hébert', 'Louis-Hébert', 'Maisonneuve', 'Marie-Victorin', 'Marie-Victorin', 'Mile End', 'Mile End', 'Mile End', 'Mile End', 'Milton-Parc', 'Montagne', 'Parc-Extension', 'Parc-Extension', 'Parc-Extension', 'Parc-Extension', 'Parc-Extension', 'Parc-Extension', 'Parc-Jarry', 'Parc-Kent', 'Parc-Lafontaine', 'Parc-Lafontaine', 'Parc-Lafontaine', 'Parc-Lafontaine', 'Parc-Laurier', 'Parc-Laurier', 'Parc-Laurier', 'Parc-Laurier', 'Petite-Bourgogne', 'Petite-Bourgogne', 'Petite-Côte', 'Petite-Côte', 'Petite-Côte', 'Petite-Côte', 'Préfontaine', 'Préfontaine', 'Préfontaine', 'Père-Marquette', 'Père-Marquette', 'Père-Marquette', 'Père-Marquette', 'Père-Marquette', 'Père-Marquette', 'Père-Marquette', 'René-Lévesque', 'René-Lévesque', 'Saint-Louis', 'Saint-Louis', 'Saint-Édouard', 'Saint-Édouard', 'Sainte-Marie', 'Sainte-Marie', 'Sainte-Marie', 'Sainte-Marie', 'Sainte-Marie', 'Sainte-Marie', 'Sainte-Marie', 'Vieux-Montréal', 'Vieux-Rosemont', 'Vieux-Rosemont', 'Vieux-Rosemont', 'Vieux-Rosemont', 'Étienne Desmarteaux']\n"
     ]
    }
   ],
   "source": [
    "# Analyze the results\n",
    "for cluster in set(T):\n",
    "    #print((cluster), (len(df_results[df_results['cluster']==cluster]['Country'])))\n",
    "    #print(sorted(list(df_results[df_results['cluster']==cluster]['Country'])))\n",
    "    print((cluster), (len(df_results[df_results['cluster']==cluster]['HOOD_NAME'])))\n",
    "    print(sorted(list(df_results[df_results['cluster']==cluster]['HOOD_NAME'])))\n",
    "    "
   ]
  },
  {
   "cell_type": "code",
   "execution_count": 7,
   "metadata": {},
   "outputs": [
    {
     "data": {
      "text/html": [
       "<div>\n",
       "<style scoped>\n",
       "    .dataframe tbody tr th:only-of-type {\n",
       "        vertical-align: middle;\n",
       "    }\n",
       "\n",
       "    .dataframe tbody tr th {\n",
       "        vertical-align: top;\n",
       "    }\n",
       "\n",
       "    .dataframe thead th {\n",
       "        text-align: right;\n",
       "    }\n",
       "</style>\n",
       "<table border=\"1\" class=\"dataframe\">\n",
       "  <thead>\n",
       "    <tr style=\"text-align: right;\">\n",
       "      <th>cluster</th>\n",
       "      <th>1</th>\n",
       "      <th>2</th>\n",
       "      <th>3</th>\n",
       "    </tr>\n",
       "  </thead>\n",
       "  <tbody>\n",
       "    <tr>\n",
       "      <th>NO_DECLARATION</th>\n",
       "      <td>5507.95</td>\n",
       "      <td>6347.83</td>\n",
       "      <td>4817.12</td>\n",
       "    </tr>\n",
       "    <tr>\n",
       "      <th>EXT_FREQ</th>\n",
       "      <td>1.43</td>\n",
       "      <td>3.67</td>\n",
       "      <td>1.71</td>\n",
       "    </tr>\n",
       "    <tr>\n",
       "      <th>MTM8_X</th>\n",
       "      <td>297110.35</td>\n",
       "      <td>298868.55</td>\n",
       "      <td>298201.18</td>\n",
       "    </tr>\n",
       "    <tr>\n",
       "      <th>MTM8_Y</th>\n",
       "      <td>5044307.10</td>\n",
       "      <td>5043205.38</td>\n",
       "      <td>5043872.21</td>\n",
       "    </tr>\n",
       "    <tr>\n",
       "      <th>LONGITUDE</th>\n",
       "      <td>-73.60</td>\n",
       "      <td>-73.58</td>\n",
       "      <td>-73.58</td>\n",
       "    </tr>\n",
       "    <tr>\n",
       "      <th>LATITUDE</th>\n",
       "      <td>45.54</td>\n",
       "      <td>45.53</td>\n",
       "      <td>45.53</td>\n",
       "    </tr>\n",
       "    <tr>\n",
       "      <th>DEC_MONTH</th>\n",
       "      <td>6.52</td>\n",
       "      <td>4.17</td>\n",
       "      <td>6.95</td>\n",
       "    </tr>\n",
       "    <tr>\n",
       "      <th>DEC_ISSUE</th>\n",
       "      <td>1.00</td>\n",
       "      <td>1.00</td>\n",
       "      <td>1.00</td>\n",
       "    </tr>\n",
       "    <tr>\n",
       "      <th>DATE_DIFF</th>\n",
       "      <td>24.27</td>\n",
       "      <td>17.00</td>\n",
       "      <td>24.65</td>\n",
       "    </tr>\n",
       "    <tr>\n",
       "      <th>EPI_DIST_1</th>\n",
       "      <td>0.98</td>\n",
       "      <td>-0.82</td>\n",
       "      <td>-0.71</td>\n",
       "    </tr>\n",
       "    <tr>\n",
       "      <th>EPI_DIST_2</th>\n",
       "      <td>7.61</td>\n",
       "      <td>2.03</td>\n",
       "      <td>2.73</td>\n",
       "    </tr>\n",
       "    <tr>\n",
       "      <th>D_DIFF_B</th>\n",
       "      <td>-0.33</td>\n",
       "      <td>3.80</td>\n",
       "      <td>-0.03</td>\n",
       "    </tr>\n",
       "    <tr>\n",
       "      <th>D_DIFF_C</th>\n",
       "      <td>5.21</td>\n",
       "      <td>13.50</td>\n",
       "      <td>13.35</td>\n",
       "    </tr>\n",
       "    <tr>\n",
       "      <th>D_DIFF_A</th>\n",
       "      <td>24.27</td>\n",
       "      <td>17.00</td>\n",
       "      <td>24.65</td>\n",
       "    </tr>\n",
       "  </tbody>\n",
       "</table>\n",
       "</div>"
      ],
      "text/plain": [
       "cluster                  1           2           3\n",
       "NO_DECLARATION     5507.95     6347.83     4817.12\n",
       "EXT_FREQ              1.43        3.67        1.71\n",
       "MTM8_X           297110.35   298868.55   298201.18\n",
       "MTM8_Y          5044307.10  5043205.38  5043872.21\n",
       "LONGITUDE           -73.60      -73.58      -73.58\n",
       "LATITUDE             45.54       45.53       45.53\n",
       "DEC_MONTH             6.52        4.17        6.95\n",
       "DEC_ISSUE             1.00        1.00        1.00\n",
       "DATE_DIFF            24.27       17.00       24.65\n",
       "EPI_DIST_1            0.98       -0.82       -0.71\n",
       "EPI_DIST_2            7.61        2.03        2.73\n",
       "D_DIFF_B             -0.33        3.80       -0.03\n",
       "D_DIFF_C              5.21       13.50       13.35\n",
       "D_DIFF_A             24.27       17.00       24.65"
      ]
     },
     "execution_count": 7,
     "metadata": {},
     "output_type": "execute_result"
    }
   ],
   "source": [
    "# Analyze the centroids\n",
    "df_results.groupby('cluster').mean().round(2).T"
   ]
  },
  {
   "cell_type": "code",
   "execution_count": 8,
   "metadata": {},
   "outputs": [
    {
     "name": "stdout",
     "output_type": "stream",
     "text": [
      "D_DIFF_B\n"
     ]
    },
    {
     "data": {
      "image/png": "[encoded data removed]",
      "text/plain": [
       "<Figure size 432x288 with 1 Axes>"
      ]
     },
     "metadata": {
      "needs_background": "light"
     },
     "output_type": "display_data"
    },
    {
     "name": "stdout",
     "output_type": "stream",
     "text": [
      "EPI_DIST_1\n"
     ]
    },
    {
     "data": {
      "image/png": "[encoded data removed]",
      "text/plain": [
       "<Figure size 432x288 with 1 Axes>"
      ]
     },
     "metadata": {
      "needs_background": "light"
     },
     "output_type": "display_data"
    }
   ],
   "source": [
    "# Analyze the results\n",
    "for col in X_columns:\n",
    "    print(col)\n",
    "    for cluster in set(T):\n",
    "        plt.hist(df_results[df_results['cluster']==cluster][col], label=str(cluster), alpha=0.3, bins=20)\n",
    "    #plt.legend()\n",
    "    plt.show()"
   ]
  },
  {
   "cell_type": "code",
   "execution_count": 9,
   "metadata": {},
   "outputs": [
    {
     "name": "stdout",
     "output_type": "stream",
     "text": [
      "3\n",
      "D_DIFF_B\n"
     ]
    },
    {
     "data": {
      "image/png": "[encoded data removed]",
      "text/plain": [
       "<Figure size 1152x216 with 3 Axes>"
      ]
     },
     "metadata": {
      "needs_background": "light"
     },
     "output_type": "display_data"
    },
    {
     "name": "stdout",
     "output_type": "stream",
     "text": [
      "EPI_DIST_1\n"
     ]
    },
    {
     "data": {
      "image/png": "[encoded data removed]",
      "text/plain": [
       "<Figure size 1152x216 with 3 Axes>"
      ]
     },
     "metadata": {
      "needs_background": "light"
     },
     "output_type": "display_data"
    }
   ],
   "source": [
    "# Analyze the results\n",
    "n_clusters = len(set(T))\n",
    "print(n_clusters)\n",
    "for col in X_columns:\n",
    "    print(col)\n",
    "    i = 1\n",
    "    plt.figure(figsize=(16,3))\n",
    "    for cluster in sorted(set(T)):\n",
    "        plt.subplot(1, n_clusters, i)\n",
    "        plt.xlim([0,df_results[col].max()])\n",
    "        plt.hist(df_results[df_results['cluster']==cluster][col], label=str(cluster), alpha=0.3, bins=10)\n",
    "        i += 1\n",
    "    plt.show()"
   ]
  },
  {
   "cell_type": "code",
   "execution_count": 10,
   "metadata": {
    "scrolled": false
   },
   "outputs": [
    {
     "name": "stdout",
     "output_type": "stream",
     "text": [
      "EPI_DIST_1\n"
     ]
    },
    {
     "data": {
      "image/png": "[encoded data removed]",
      "text/plain": [
       "<Figure size 432x288 with 1 Axes>"
      ]
     },
     "metadata": {
      "needs_background": "light"
     },
     "output_type": "display_data"
    },
    {
     "name": "stdout",
     "output_type": "stream",
     "text": [
      "D_DIFF_B\n"
     ]
    },
    {
     "data": {
      "image/png": "[encoded data removed]",
      "text/plain": [
       "<Figure size 432x288 with 1 Axes>"
      ]
     },
     "metadata": {
      "needs_background": "light"
     },
     "output_type": "display_data"
    },
    {
     "name": "stdout",
     "output_type": "stream",
     "text": [
      "D_DIFF_C\n"
     ]
    },
    {
     "data": {
      "image/png": "[encoded data removed]",
      "text/plain": [
       "<Figure size 432x288 with 1 Axes>"
      ]
     },
     "metadata": {
      "needs_background": "light"
     },
     "output_type": "display_data"
    },
    {
     "name": "stdout",
     "output_type": "stream",
     "text": [
      "D_DIFF_A\n"
     ]
    },
    {
     "data": {
      "image/png": "[encoded data removed]",
      "text/plain": [
       "<Figure size 432x288 with 1 Axes>"
      ]
     },
     "metadata": {
      "needs_background": "light"
     },
     "output_type": "display_data"
    }
   ],
   "source": [
    "# Analyze the correlation with Happiness Score\n",
    "#for c in ['Happiness.Score', 'Economy..GDP.per.Capita.', 'Family', 'Health..Life.Expectancy.', 'Freedom', 'Generosity', 'Trust..Government.Corruption.', 'Dystopia.Residual']:\n",
    "for c in ['EPI_DIST_1','D_DIFF_B', 'D_DIFF_C', 'D_DIFF_A']:\n",
    "    print(c)\n",
    "    plt.plot(df_results['EPI_DIST_1'], df_results[c], 'o')\n",
    "    plt.show()"
   ]
  },
  {
   "cell_type": "markdown",
   "metadata": {},
   "source": [
    "# Model Evaluation"
   ]
  },
  {
   "cell_type": "code",
   "execution_count": 11,
   "metadata": {},
   "outputs": [
    {
     "name": "stdout",
     "output_type": "stream",
     "text": [
      "Inter Cluster distance 1.8338985707750064\n",
      "Intra Cluster distance 0.4467532036533862\n",
      "Inertia 99.98580320105967\n"
     ]
    }
   ],
   "source": [
    "# Inter-Cluster\n",
    "centroids = []\n",
    "for cluster in sorted(set(T)):\n",
    "    centroids.append(df[df['cluster']==cluster][X_columns].mean().values)\n",
    "distances = []\n",
    "for c1 in centroids:\n",
    "    for c2 in centroids:\n",
    "        distances.append(euclidean_distances(c1.reshape(-1, 1), c2.reshape(-1, 1))[0][0])\n",
    "print('Inter Cluster distance', np.mean(distances))\n",
    "\n",
    "# Intra-Cluster\n",
    "distances = []\n",
    "for cluster in sorted(set(T)):\n",
    "    df_filter = df[df['cluster']==cluster]\n",
    "    centroid = df_filter[X_columns].mean().values\n",
    "    for k, v in df_filter[X_columns].iterrows():\n",
    "        distances.append(euclidean_distances(centroid.reshape(-1, 1), v.values.reshape(-1, 1))[0][0])\n",
    "print('Intra Cluster distance', np.mean(distances))\n",
    "\n",
    "# Inertia\n",
    "distances = []\n",
    "for cluster in sorted(set(T)):\n",
    "    df_filter = df[df['cluster']==cluster]\n",
    "    centroid = df_filter[X_columns].mean().values\n",
    "    for k, v in df_filter[X_columns].iterrows():\n",
    "        distances.append(euclidean_distances(centroid.reshape(1, -1), v.values.reshape(1, -1), squared=True)[0][0])\n",
    "print('Inertia', np.sum(distances))"
   ]
  },
  {
   "cell_type": "code",
   "execution_count": 12,
   "metadata": {},
   "outputs": [
    {
     "data": {
      "image/png": "[encoded data removed]",
      "text/plain": [
       "<Figure size 432x288 with 1 Axes>"
      ]
     },
     "metadata": {
      "needs_background": "light"
     },
     "output_type": "display_data"
    }
   ],
   "source": [
    "inertia = []\n",
    "number_k = []\n",
    "for k in range(2,100,10):\n",
    "    d = sch.distance.pdist(df[X_columns])\n",
    "    Z= sch.linkage(d, method = 'ward')\n",
    "    T = sch.fcluster(Z, k, 'maxclust')\n",
    "    df['cluster'] = T\n",
    "\n",
    "    # Inertia\n",
    "    distances = []\n",
    "    for cluster in sorted(set(T)):\n",
    "        df_filter = df[df['cluster']==cluster]\n",
    "        centroid = df_filter[X_columns].mean().values\n",
    "        for _, v in df_filter[X_columns].iterrows():\n",
    "            distances.append(euclidean_distances(centroid.reshape(1, -1), v.values.reshape(1, -1), squared=True)[0][0])\n",
    "    inertia.append(np.sum(distances))\n",
    "    number_k.append(k)\n",
    "plt.plot(number_k, inertia)\n",
    "plt.show()"
   ]
  },
  {
   "cell_type": "code",
   "execution_count": null,
   "metadata": {},
   "outputs": [],
   "source": []
  },
  {
   "cell_type": "code",
   "execution_count": null,
   "metadata": {},
   "outputs": [],
   "source": []
  },
  {
   "cell_type": "code",
   "execution_count": null,
   "metadata": {},
   "outputs": [],
   "source": []
  }
 ],
 "metadata": {
  "anaconda-cloud": {},
  "kernelspec": {
   "display_name": "Python 3",
   "language": "python",
   "name": "python3"
  },
  "language_info": {
   "codemirror_mode": {
    "name": "ipython",
    "version": 3
   },
   "file_extension": ".py",
   "mimetype": "text/x-python",
   "name": "python",
   "nbconvert_exporter": "python",
   "pygments_lexer": "ipython3",
   "version": "3.7.2"
  }
 },
 "nbformat": 4,
 "nbformat_minor": 1
}
